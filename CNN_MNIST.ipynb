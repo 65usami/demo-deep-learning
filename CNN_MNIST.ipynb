{
 "cells": [
  {
   "cell_type": "code",
   "execution_count": 1,
   "metadata": {},
   "outputs": [],
   "source": [
    "import numpy as np\n",
    "import matplotlib.pyplot as plt\n",
    "\n",
    "from sklearn.model_selection import train_test_split\n",
    "\n",
    "import tensorflow as tf\n",
    "from tensorflow.keras.datasets import mnist\n",
    "from tensorflow import keras\n",
    "from tensorflow.keras.layers import Dense, Activation, Flatten, Conv2D, Dropout, MaxPooling2D\n",
    "from tensorflow.keras.models import Sequential\n",
    "from tensorflow.keras.utils import to_categorical\n",
    "\n",
    "%matplotlib inline"
   ]
  },
  {
   "cell_type": "code",
   "execution_count": 2,
   "metadata": {},
   "outputs": [
    {
     "name": "stderr",
     "output_type": "stream",
     "text": [
      "Using TensorFlow backend.\n"
     ]
    }
   ],
   "source": [
    "# GPU対応\n",
    "\n",
    "from keras.backend import tensorflow_backend\n",
    "config = tf.ConfigProto(gpu_options=tf.GPUOptions(allow_growth=True))\n",
    "session = tf.Session(config=config)\n",
    "tensorflow_backend.set_session(session)"
   ]
  },
  {
   "cell_type": "code",
   "execution_count": 3,
   "metadata": {},
   "outputs": [
    {
     "name": "stdout",
     "output_type": "stream",
     "text": [
      "X_train.shape (48000, 28, 28)\n",
      "X_validation.shape (12000, 28, 28)\n",
      "X_test.shape (10000, 28, 28)\n"
     ]
    }
   ],
   "source": [
    "# 手書き数字画像取得\n",
    "np.random.seed(0)\n",
    "(X_train, labels_train), (X_test, labels_test) = mnist.load_data()\n",
    "\n",
    "X_train, X_validation, labels_train, labels_validation = train_test_split(X_train, labels_train, test_size=0.2)\n",
    "\n",
    "print('X_train.shape', X_train.shape)\n",
    "print('X_validation.shape', X_validation.shape)\n",
    "print('X_test.shape', X_test.shape)"
   ]
  },
  {
   "cell_type": "code",
   "execution_count": 4,
   "metadata": {},
   "outputs": [
    {
     "data": {
      "image/png": "[encoded data removed]",
      "text/plain": [
       "<Figure size 432x288 with 110 Axes>"
      ]
     },
     "metadata": {
      "needs_background": "light"
     },
     "output_type": "display_data"
    }
   ],
   "source": [
    "# 画像確認\n",
    "\n",
    "label_images = {label: [] for label in set(labels_train.tolist())}\n",
    "for x, label in zip(X_train, labels_train):\n",
    "    if all(len(images) >= 10 for images in label_images.values()):\n",
    "        break\n",
    "    if len(label_images[label]) >= 10:\n",
    "        continue\n",
    "    label_images[label].append(x)\n",
    "    \n",
    "for j, (label, images) in enumerate(label_images.items()):\n",
    "    plt.subplot(10, 11, j * 11 + 1)\n",
    "    plt.text(0.5, 0.5, label, ha='center', va='center')\n",
    "    plt.axis('off')\n",
    "    for i, image in enumerate(images):\n",
    "        if i >= 10:\n",
    "            continue\n",
    "        plt.subplot(10, 11, j * 11 +  i + 2)\n",
    "        plt.imshow(image, cmap='Greys_r')\n",
    "        plt.axis('off')\n",
    "plt.show()\n",
    "    \n",
    "del label_images"
   ]
  },
  {
   "cell_type": "code",
   "execution_count": 5,
   "metadata": {},
   "outputs": [],
   "source": [
    "# 前処理\n",
    "\n",
    "## 正規化\n",
    "X_train = X_train.reshape((-1, 784)).astype('float32')\n",
    "X_validation = X_validation.reshape((-1, 784)).astype('float32')\n",
    "X_test = X_test.reshape((-1, 784)).astype('float32')\n",
    "\n",
    "X_train /= 255\n",
    "X_validation /= 255\n",
    "X_test /= 255\n",
    "\n",
    "## 加工 for CNN\n",
    "X_train = X_train.reshape((-1, 28, 28, 1)).astype('float32')\n",
    "X_validation = X_validation.reshape((-1, 28, 28, 1)).astype('float32')\n",
    "X_test = X_test.reshape((-1, 28, 28, 1)).astype('float32')\n",
    "\n",
    "# one-hotラベル\n",
    "y_train = tf.keras.utils.to_categorical(labels_train)\n",
    "y_validation = tf.keras.utils.to_categorical(labels_validation)\n",
    "y_test = tf.keras.utils.to_categorical(labels_test)"
   ]
  },
  {
   "cell_type": "code",
   "execution_count": 6,
   "metadata": {},
   "outputs": [
    {
     "name": "stdout",
     "output_type": "stream",
     "text": [
      "WARNING:tensorflow:From /home/usami/.pyenv/versions/3.6.8/lib/python3.6/site-packages/tensorflow/python/ops/resource_variable_ops.py:435: colocate_with (from tensorflow.python.framework.ops) is deprecated and will be removed in a future version.\n",
      "Instructions for updating:\n",
      "Colocations handled automatically by placer.\n",
      "WARNING:tensorflow:From /home/usami/.pyenv/versions/3.6.8/lib/python3.6/site-packages/tensorflow/python/keras/layers/core.py:143: calling dropout (from tensorflow.python.ops.nn_ops) with keep_prob is deprecated and will be removed in a future version.\n",
      "Instructions for updating:\n",
      "Please use `rate` instead of `keep_prob`. Rate should be set to `rate = 1 - keep_prob`.\n"
     ]
    }
   ],
   "source": [
    "# Model\n",
    "\n",
    "model = Sequential()\n",
    "\n",
    "model.add(\n",
    "    Conv2D(\n",
    "        64, \n",
    "        kernel_size=(3, 3), \n",
    "        activation='relu', \n",
    "        input_shape=(X_train[0].shape),\n",
    "        kernel_initializer=keras.initializers.TruncatedNormal(stddev=0.1),\n",
    "        bias_initializer=keras.initializers.constant(0.1)\n",
    "    )\n",
    ")\n",
    "model.add(MaxPooling2D(pool_size=(3, 3)))\n",
    "model.add(Dropout(rate=0.2))\n",
    "\n",
    "model.add(\n",
    "    Conv2D(\n",
    "        128, \n",
    "        kernel_size=(3, 3), \n",
    "        activation='relu',\n",
    "    )\n",
    ")\n",
    "model.add(MaxPooling2D(pool_size=(3, 3)))\n",
    "model.add(Dropout(rate=0.2))\n",
    "\n",
    "model.add(Flatten())\n",
    "\n",
    "model.add(\n",
    "    Dense(\n",
    "        10, \n",
    "        activation='softmax'\n",
    "    )\n",
    ")\n",
    "\n",
    "model.compile(\n",
    "    optimizer=tf.train.AdamOptimizer(0.01),\n",
    "    loss='categorical_crossentropy', \n",
    "    metrics=['mae', 'accuracy']\n",
    ")"
   ]
  },
  {
   "cell_type": "code",
   "execution_count": 7,
   "metadata": {},
   "outputs": [
    {
     "name": "stdout",
     "output_type": "stream",
     "text": [
      "WARNING:tensorflow:From /home/usami/.pyenv/versions/3.6.8/lib/python3.6/site-packages/tensorflow/python/ops/math_ops.py:3066: to_int32 (from tensorflow.python.ops.math_ops) is deprecated and will be removed in a future version.\n",
      "Instructions for updating:\n",
      "Use tf.cast instead.\n",
      "Epoch 00114: early stopping\n"
     ]
    }
   ],
   "source": [
    "# Fitting\n",
    "\n",
    "log = model.fit(\n",
    "    X_train, \n",
    "    y_train, \n",
    "    epochs=300, \n",
    "    batch_size=1500, \n",
    "    verbose=False,\n",
    "    callbacks=[\n",
    "        keras.callbacks.EarlyStopping(\n",
    "            monitor='val_loss', \n",
    "            min_delta=0, \n",
    "            patience=20, \n",
    "            verbose=1\n",
    "        )\n",
    "    ],\n",
    "    validation_data=(X_validation, y_validation)\n",
    ")"
   ]
  },
  {
   "cell_type": "code",
   "execution_count": 8,
   "metadata": {},
   "outputs": [
    {
     "name": "stdout",
     "output_type": "stream",
     "text": [
      "Accuracy 0.98477083\n",
      "Loss 0.045640318479854614\n"
     ]
    }
   ],
   "source": [
    "# Results\n",
    "\n",
    "print('Accuracy', log.history['acc'][-1])\n",
    "print('Loss', log.history['loss'][-1])"
   ]
  },
  {
   "cell_type": "code",
   "execution_count": 9,
   "metadata": {},
   "outputs": [
    {
     "name": "stdout",
     "output_type": "stream",
     "text": [
      " 9880/10000 actual correct (98.800%)\n"
     ]
    }
   ],
   "source": [
    "# Prediction\n",
    "\n",
    "pred_test = model.predict_classes(X_test)\n",
    "validation = (pred_test == labels_test)\n",
    "size       = validation.size\n",
    "size\n",
    "correct    = np.count_nonzero(validation)\n",
    "print(f\" {correct}/{size} actual correct ({correct*100/size:.3f}%)\")"
   ]
  },
  {
   "cell_type": "code",
   "execution_count": 10,
   "metadata": {},
   "outputs": [
    {
     "data": {
      "image/png": "[encoded data removed]",
      "text/plain": [
       "<Figure size 288x288 with 1 Axes>"
      ]
     },
     "metadata": {
      "needs_background": "light"
     },
     "output_type": "display_data"
    },
    {
     "data": {
      "image/png": "[encoded data removed]",
      "text/plain": [
       "<Figure size 288x288 with 1 Axes>"
      ]
     },
     "metadata": {
      "needs_background": "light"
     },
     "output_type": "display_data"
    }
   ],
   "source": [
    "# Graphs\n",
    "\n",
    "fig = plt.figure(figsize=(4,4))\n",
    "plt.plot(log.history['loss'], label='loss')\n",
    "plt.plot(log.history['val_loss'], label='val_loss')\n",
    "plt.xlabel(\"Epoch\")\n",
    "plt.ylabel(\"MSE\")\n",
    "plt.legend(frameon=True)\n",
    "plt.show()\n",
    "\n",
    "fig = plt.figure(figsize=(4,4))\n",
    "plt.plot(log.history['acc'], label='acc')\n",
    "plt.xlabel(\"Epoch\")\n",
    "plt.ylabel(\"Accuracy\")\n",
    "plt.legend(frameon=True)\n",
    "plt.show()"
   ]
  },
  {
   "cell_type": "code",
   "execution_count": null,
   "metadata": {},
   "outputs": [],
   "source": []
  }
 ],
 "metadata": {
  "kernelspec": {
   "display_name": "Python 3",
   "language": "python",
   "name": "python3"
  },
  "language_info": {
   "codemirror_mode": {
    "name": "ipython",
    "version": 3
   },
   "file_extension": ".py",
   "mimetype": "text/x-python",
   "name": "python",
   "nbconvert_exporter": "python",
   "pygments_lexer": "ipython3",
   "version": "3.6.8"
  }
 },
 "nbformat": 4,
 "nbformat_minor": 2
}
