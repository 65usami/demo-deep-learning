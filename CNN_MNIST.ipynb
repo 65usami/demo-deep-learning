{
 "cells": [
  {
   "cell_type": "code",
   "execution_count": 1,
   "metadata": {},
   "outputs": [],
   "source": [
    "import numpy as np\n",
    "import matplotlib.pyplot as plt\n",
    "\n",
    "from sklearn.model_selection import train_test_split\n",
    "\n",
    "import tensorflow as tf\n",
    "from tensorflow.keras.datasets import mnist\n",
    "from tensorflow import keras\n",
    "from tensorflow.keras.layers import Dense, Activation, Flatten, Conv2D, Dropout, MaxPooling2D\n",
    "from tensorflow.keras.models import Sequential\n",
    "from tensorflow.keras.utils import to_categorical\n",
    "\n",
    "%matplotlib inline"
   ]
  },
  {
   "cell_type": "code",
   "execution_count": 2,
   "metadata": {},
   "outputs": [
    {
     "name": "stderr",
     "output_type": "stream",
     "text": [
      "Using TensorFlow backend.\n"
     ]
    }
   ],
   "source": [
    "# GPU対応\n",
    "\n",
    "from keras.backend import tensorflow_backend\n",
    "config = tf.ConfigProto(gpu_options=tf.GPUOptions(allow_growth=True))\n",
    "session = tf.Session(config=config)\n",
    "tensorflow_backend.set_session(session)"
   ]
  },
  {
   "cell_type": "code",
   "execution_count": 3,
   "metadata": {},
   "outputs": [
    {
     "name": "stdout",
     "output_type": "stream",
     "text": [
      "X_train.shape (48000, 28, 28)\n",
      "X_validation.shape (12000, 28, 28)\n",
      "X_test.shape (10000, 28, 28)\n"
     ]
    }
   ],
   "source": [
    "# 手書き数字画像取得\n",
    "np.random.seed(0)\n",
    "(X_train, labels_train), (X_test, labels_test) = mnist.load_data()\n",
    "\n",
    "X_train, X_validation, labels_train, labels_validation = train_test_split(X_train, labels_train, test_size=0.2)\n",
    "\n",
    "print('X_train.shape', X_train.shape)\n",
    "print('X_validation.shape', X_validation.shape)\n",
    "print('X_test.shape', X_test.shape)"
   ]
  },
  {
   "cell_type": "code",
   "execution_count": 4,
   "metadata": {},
   "outputs": [
    {
     "data": {
      "image/png": "[encoded data removed]",
      "text/plain": [
       "<Figure size 432x288 with 110 Axes>"
      ]
     },
     "metadata": {
      "needs_background": "light"
     },
     "output_type": "display_data"
    }
   ],
   "source": [
    "# 画像確認\n",
    "\n",
    "label_images = {label: [] for label in set(labels_train.tolist())}\n",
    "for x, label in zip(X_train, labels_train):\n",
    "    if all(len(images) >= 10 for images in label_images.values()):\n",
    "        break\n",
    "    if len(label_images[label]) >= 10:\n",
    "        continue\n",
    "    label_images[label].append(x)\n",
    "    \n",
    "for j, (label, images) in enumerate(label_images.items()):\n",
    "    plt.subplot(10, 11, j * 11 + 1)\n",
    "    plt.text(0.5, 0.5, label, ha='center', va='center')\n",
    "    plt.axis('off')\n",
    "    for i, image in enumerate(images):\n",
    "        if i >= 10:\n",
    "            continue\n",
    "        plt.subplot(10, 11, j * 11 +  i + 2)\n",
    "        plt.imshow(image, cmap='Greys_r')\n",
    "        plt.axis('off')\n",
    "plt.show()\n",
    "    \n",
    "del label_images"
   ]
  },
  {
   "cell_type": "code",
   "execution_count": 5,
   "metadata": {},
   "outputs": [],
   "source": [
    "# 前処理\n",
    "\n",
    "## 正規化\n",
    "X_train = X_train.reshape((-1, 784)).astype('float32')\n",
    "X_validation = X_validation.reshape((-1, 784)).astype('float32')\n",
    "X_test = X_test.reshape((-1, 784)).astype('float32')\n",
    "\n",
    "X_train /= 255\n",
    "X_validation /= 255\n",
    "X_test /= 255\n",
    "\n",
    "## 加工 for CNN\n",
    "X_train = X_train.reshape((-1, 28, 28, 1)).astype('float32')\n",
    "X_validation = X_validation.reshape((-1, 28, 28, 1)).astype('float32')\n",
    "X_test = X_test.reshape((-1, 28, 28, 1)).astype('float32')\n",
    "\n",
    "# one-hotラベル\n",
    "y_train = tf.keras.utils.to_categorical(labels_train)\n",
    "y_validation = tf.keras.utils.to_categorical(labels_validation)\n",
    "y_test = tf.keras.utils.to_categorical(labels_test)"
   ]
  },
  {
   "cell_type": "code",
   "execution_count": 6,
   "metadata": {},
   "outputs": [
    {
     "name": "stdout",
     "output_type": "stream",
     "text": [
      "WARNING:tensorflow:From /home/usami/.pyenv/versions/3.6.8/lib/python3.6/site-packages/tensorflow/python/ops/resource_variable_ops.py:435: colocate_with (from tensorflow.python.framework.ops) is deprecated and will be removed in a future version.\n",
      "Instructions for updating:\n",
      "Colocations handled automatically by placer.\n",
      "WARNING:tensorflow:From /home/usami/.pyenv/versions/3.6.8/lib/python3.6/site-packages/tensorflow/python/keras/layers/core.py:143: calling dropout (from tensorflow.python.ops.nn_ops) with keep_prob is deprecated and will be removed in a future version.\n",
      "Instructions for updating:\n",
      "Please use `rate` instead of `keep_prob`. Rate should be set to `rate = 1 - keep_prob`.\n"
     ]
    }
   ],
   "source": [
    "# Model\n",
    "\n",
    "model = Sequential()\n",
    "\n",
    "model.add(\n",
    "    Conv2D(\n",
    "        64, \n",
    "        kernel_size=(3, 3), \n",
    "        activation='relu', \n",
    "        input_shape=(X_train[0].shape),\n",
    "        kernel_initializer=keras.initializers.TruncatedNormal(stddev=0.1),\n",
    "        bias_initializer=keras.initializers.constant(0.1)\n",
    "    )\n",
    ")\n",
    "model.add(MaxPooling2D(pool_size=(3, 3)))\n",
    "model.add(Dropout(rate=0.2))\n",
    "\n",
    "model.add(\n",
    "    Conv2D(\n",
    "        128, \n",
    "        kernel_size=(3, 3), \n",
    "        activation='relu',\n",
    "    )\n",
    ")\n",
    "model.add(MaxPooling2D(pool_size=(3, 3)))\n",
    "model.add(Dropout(rate=0.2))\n",
    "\n",
    "model.add(Flatten())\n",
    "\n",
    "model.add(\n",
    "    Dense(\n",
    "        10, \n",
    "        activation='softmax'\n",
    "    )\n",
    ")\n",
    "\n",
    "model.compile(\n",
    "    optimizer=tf.train.AdamOptimizer(0.01),\n",
    "    loss='categorical_crossentropy', \n",
    "    metrics=['mae', 'accuracy']\n",
    ")"
   ]
  },
  {
   "cell_type": "code",
   "execution_count": 7,
   "metadata": {},
   "outputs": [
    {
     "name": "stdout",
     "output_type": "stream",
     "text": [
      "Train on 48000 samples, validate on 12000 samples\n",
      "WARNING:tensorflow:From /home/usami/.pyenv/versions/3.6.8/lib/python3.6/site-packages/tensorflow/python/ops/math_ops.py:3066: to_int32 (from tensorflow.python.ops.math_ops) is deprecated and will be removed in a future version.\n",
      "Instructions for updating:\n",
      "Use tf.cast instead.\n",
      "Epoch 1/300\n",
      "48000/48000 [==============================] - 3s 54us/sample - loss: 1.9469 - mean_absolute_error: 0.1601 - acc: 0.3783 - val_loss: 0.6371 - val_mean_absolute_error: 0.0737 - val_acc: 0.8332\n",
      "Epoch 2/300\n",
      "48000/48000 [==============================] - 2s 38us/sample - loss: 0.5192 - mean_absolute_error: 0.0501 - acc: 0.8361 - val_loss: 0.2149 - val_mean_absolute_error: 0.0236 - val_acc: 0.9390\n",
      "Epoch 3/300\n",
      "48000/48000 [==============================] - 2s 36us/sample - loss: 0.3194 - mean_absolute_error: 0.0310 - acc: 0.9016 - val_loss: 0.1570 - val_mean_absolute_error: 0.0181 - val_acc: 0.9559\n",
      "Epoch 4/300\n",
      "48000/48000 [==============================] - 2s 35us/sample - loss: 0.2532 - mean_absolute_error: 0.0253 - acc: 0.9207 - val_loss: 0.1258 - val_mean_absolute_error: 0.0138 - val_acc: 0.9622\n",
      "Epoch 5/300\n",
      "48000/48000 [==============================] - 2s 36us/sample - loss: 0.2185 - mean_absolute_error: 0.0216 - acc: 0.9329 - val_loss: 0.1094 - val_mean_absolute_error: 0.0122 - val_acc: 0.9672\n",
      "Epoch 6/300\n",
      "48000/48000 [==============================] - 2s 38us/sample - loss: 0.1966 - mean_absolute_error: 0.0196 - acc: 0.9385 - val_loss: 0.1039 - val_mean_absolute_error: 0.0114 - val_acc: 0.9684\n",
      "Epoch 7/300\n",
      "48000/48000 [==============================] - 2s 36us/sample - loss: 0.1716 - mean_absolute_error: 0.0168 - acc: 0.9475 - val_loss: 0.0825 - val_mean_absolute_error: 0.0089 - val_acc: 0.9744\n",
      "Epoch 8/300\n",
      "48000/48000 [==============================] - 2s 35us/sample - loss: 0.1542 - mean_absolute_error: 0.0153 - acc: 0.9519 - val_loss: 0.0788 - val_mean_absolute_error: 0.0082 - val_acc: 0.9766\n",
      "Epoch 9/300\n",
      "48000/48000 [==============================] - 2s 36us/sample - loss: 0.1453 - mean_absolute_error: 0.0143 - acc: 0.9550 - val_loss: 0.0739 - val_mean_absolute_error: 0.0080 - val_acc: 0.9783\n",
      "Epoch 10/300\n",
      "48000/48000 [==============================] - 2s 38us/sample - loss: 0.1400 - mean_absolute_error: 0.0138 - acc: 0.9572 - val_loss: 0.0701 - val_mean_absolute_error: 0.0072 - val_acc: 0.9779\n",
      "Epoch 11/300\n",
      "48000/48000 [==============================] - 2s 36us/sample - loss: 0.1320 - mean_absolute_error: 0.0131 - acc: 0.9590 - val_loss: 0.0676 - val_mean_absolute_error: 0.0070 - val_acc: 0.9799\n",
      "Epoch 12/300\n",
      "48000/48000 [==============================] - 2s 36us/sample - loss: 0.1250 - mean_absolute_error: 0.0124 - acc: 0.9608 - val_loss: 0.0640 - val_mean_absolute_error: 0.0067 - val_acc: 0.9809\n",
      "Epoch 13/300\n",
      "48000/48000 [==============================] - 2s 36us/sample - loss: 0.1181 - mean_absolute_error: 0.0115 - acc: 0.9637 - val_loss: 0.0606 - val_mean_absolute_error: 0.0062 - val_acc: 0.9814\n",
      "Epoch 14/300\n",
      "48000/48000 [==============================] - 2s 37us/sample - loss: 0.1143 - mean_absolute_error: 0.0112 - acc: 0.9644 - val_loss: 0.0572 - val_mean_absolute_error: 0.0061 - val_acc: 0.9827\n",
      "Epoch 15/300\n",
      "48000/48000 [==============================] - 2s 36us/sample - loss: 0.1051 - mean_absolute_error: 0.0105 - acc: 0.9681 - val_loss: 0.0537 - val_mean_absolute_error: 0.0056 - val_acc: 0.9842\n",
      "Epoch 16/300\n",
      "48000/48000 [==============================] - 2s 36us/sample - loss: 0.1044 - mean_absolute_error: 0.0102 - acc: 0.9676 - val_loss: 0.0524 - val_mean_absolute_error: 0.0056 - val_acc: 0.9841\n",
      "Epoch 17/300\n",
      "48000/48000 [==============================] - 2s 37us/sample - loss: 0.1062 - mean_absolute_error: 0.0105 - acc: 0.9669 - val_loss: 0.0513 - val_mean_absolute_error: 0.0054 - val_acc: 0.9844\n",
      "Epoch 18/300\n",
      "48000/48000 [==============================] - 2s 37us/sample - loss: 0.1024 - mean_absolute_error: 0.0101 - acc: 0.9680 - val_loss: 0.0516 - val_mean_absolute_error: 0.0053 - val_acc: 0.9837\n",
      "Epoch 19/300\n",
      "48000/48000 [==============================] - 2s 36us/sample - loss: 0.0989 - mean_absolute_error: 0.0096 - acc: 0.9692 - val_loss: 0.0473 - val_mean_absolute_error: 0.0049 - val_acc: 0.9847\n",
      "Epoch 20/300\n",
      "48000/48000 [==============================] - 2s 36us/sample - loss: 0.0958 - mean_absolute_error: 0.0092 - acc: 0.9712 - val_loss: 0.0495 - val_mean_absolute_error: 0.0055 - val_acc: 0.9844\n",
      "Epoch 21/300\n",
      "48000/48000 [==============================] - 2s 36us/sample - loss: 0.0962 - mean_absolute_error: 0.0094 - acc: 0.9706 - val_loss: 0.0479 - val_mean_absolute_error: 0.0051 - val_acc: 0.9847\n",
      "Epoch 22/300\n",
      "48000/48000 [==============================] - 2s 37us/sample - loss: 0.0978 - mean_absolute_error: 0.0096 - acc: 0.9694 - val_loss: 0.0489 - val_mean_absolute_error: 0.0054 - val_acc: 0.9851\n",
      "Epoch 23/300\n",
      "48000/48000 [==============================] - 2s 36us/sample - loss: 0.0919 - mean_absolute_error: 0.0090 - acc: 0.9710 - val_loss: 0.0512 - val_mean_absolute_error: 0.0054 - val_acc: 0.9832\n",
      "Epoch 24/300\n",
      "48000/48000 [==============================] - 2s 36us/sample - loss: 0.0925 - mean_absolute_error: 0.0091 - acc: 0.9709 - val_loss: 0.0461 - val_mean_absolute_error: 0.0048 - val_acc: 0.9848\n",
      "Epoch 25/300\n",
      "48000/48000 [==============================] - 2s 36us/sample - loss: 0.0876 - mean_absolute_error: 0.0086 - acc: 0.9720 - val_loss: 0.0482 - val_mean_absolute_error: 0.0053 - val_acc: 0.9851\n",
      "Epoch 26/300\n",
      "48000/48000 [==============================] - 2s 37us/sample - loss: 0.0880 - mean_absolute_error: 0.0088 - acc: 0.9718 - val_loss: 0.0481 - val_mean_absolute_error: 0.0049 - val_acc: 0.9849\n",
      "Epoch 27/300\n",
      "48000/48000 [==============================] - 2s 36us/sample - loss: 0.0863 - mean_absolute_error: 0.0085 - acc: 0.9731 - val_loss: 0.0462 - val_mean_absolute_error: 0.0045 - val_acc: 0.9849\n",
      "Epoch 28/300\n",
      "48000/48000 [==============================] - 2s 37us/sample - loss: 0.0893 - mean_absolute_error: 0.0086 - acc: 0.9723 - val_loss: 0.0433 - val_mean_absolute_error: 0.0045 - val_acc: 0.9857\n",
      "Epoch 29/300\n",
      "48000/48000 [==============================] - 2s 38us/sample - loss: 0.0897 - mean_absolute_error: 0.0088 - acc: 0.9718 - val_loss: 0.0452 - val_mean_absolute_error: 0.0048 - val_acc: 0.9850\n",
      "Epoch 30/300\n",
      "48000/48000 [==============================] - 2s 37us/sample - loss: 0.0849 - mean_absolute_error: 0.0084 - acc: 0.9733 - val_loss: 0.0449 - val_mean_absolute_error: 0.0047 - val_acc: 0.9851\n",
      "Epoch 31/300\n",
      "48000/48000 [==============================] - 2s 36us/sample - loss: 0.0823 - mean_absolute_error: 0.0079 - acc: 0.9743 - val_loss: 0.0458 - val_mean_absolute_error: 0.0045 - val_acc: 0.9851\n",
      "Epoch 32/300\n",
      "48000/48000 [==============================] - 2s 36us/sample - loss: 0.0829 - mean_absolute_error: 0.0081 - acc: 0.9736 - val_loss: 0.0454 - val_mean_absolute_error: 0.0046 - val_acc: 0.9849\n",
      "Epoch 33/300\n",
      "48000/48000 [==============================] - 2s 37us/sample - loss: 0.0810 - mean_absolute_error: 0.0080 - acc: 0.9741 - val_loss: 0.0434 - val_mean_absolute_error: 0.0045 - val_acc: 0.9862\n",
      "Epoch 34/300\n",
      "48000/48000 [==============================] - 2s 37us/sample - loss: 0.0818 - mean_absolute_error: 0.0080 - acc: 0.9734 - val_loss: 0.0463 - val_mean_absolute_error: 0.0045 - val_acc: 0.9861\n",
      "Epoch 35/300\n",
      "48000/48000 [==============================] - 2s 36us/sample - loss: 0.0788 - mean_absolute_error: 0.0077 - acc: 0.9757 - val_loss: 0.0432 - val_mean_absolute_error: 0.0043 - val_acc: 0.9858\n",
      "Epoch 36/300\n",
      "48000/48000 [==============================] - 2s 36us/sample - loss: 0.0791 - mean_absolute_error: 0.0078 - acc: 0.9751 - val_loss: 0.0419 - val_mean_absolute_error: 0.0043 - val_acc: 0.9862\n",
      "Epoch 37/300\n",
      "48000/48000 [==============================] - 2s 37us/sample - loss: 0.0771 - mean_absolute_error: 0.0075 - acc: 0.9764 - val_loss: 0.0421 - val_mean_absolute_error: 0.0042 - val_acc: 0.9858\n",
      "Epoch 38/300\n",
      "48000/48000 [==============================] - 2s 37us/sample - loss: 0.0757 - mean_absolute_error: 0.0075 - acc: 0.9760 - val_loss: 0.0415 - val_mean_absolute_error: 0.0041 - val_acc: 0.9864\n",
      "Epoch 39/300\n"
     ]
    },
    {
     "name": "stdout",
     "output_type": "stream",
     "text": [
      "48000/48000 [==============================] - 2s 36us/sample - loss: 0.0777 - mean_absolute_error: 0.0074 - acc: 0.9756 - val_loss: 0.0417 - val_mean_absolute_error: 0.0043 - val_acc: 0.9862\n",
      "Epoch 40/300\n",
      "48000/48000 [==============================] - 2s 36us/sample - loss: 0.0760 - mean_absolute_error: 0.0075 - acc: 0.9756 - val_loss: 0.0440 - val_mean_absolute_error: 0.0045 - val_acc: 0.9852\n",
      "Epoch 41/300\n",
      "48000/48000 [==============================] - 2s 37us/sample - loss: 0.0752 - mean_absolute_error: 0.0074 - acc: 0.9761 - val_loss: 0.0410 - val_mean_absolute_error: 0.0042 - val_acc: 0.9862\n",
      "Epoch 42/300\n",
      "48000/48000 [==============================] - 2s 37us/sample - loss: 0.0737 - mean_absolute_error: 0.0073 - acc: 0.9759 - val_loss: 0.0404 - val_mean_absolute_error: 0.0040 - val_acc: 0.9867\n",
      "Epoch 43/300\n",
      "48000/48000 [==============================] - 2s 36us/sample - loss: 0.0716 - mean_absolute_error: 0.0070 - acc: 0.9774 - val_loss: 0.0418 - val_mean_absolute_error: 0.0041 - val_acc: 0.9863\n",
      "Epoch 44/300\n",
      "48000/48000 [==============================] - 2s 35us/sample - loss: 0.0757 - mean_absolute_error: 0.0074 - acc: 0.9765 - val_loss: 0.0411 - val_mean_absolute_error: 0.0041 - val_acc: 0.9875\n",
      "Epoch 45/300\n",
      "48000/48000 [==============================] - 2s 37us/sample - loss: 0.0746 - mean_absolute_error: 0.0074 - acc: 0.9765 - val_loss: 0.0431 - val_mean_absolute_error: 0.0044 - val_acc: 0.9857\n",
      "Epoch 46/300\n",
      "48000/48000 [==============================] - 2s 37us/sample - loss: 0.0712 - mean_absolute_error: 0.0070 - acc: 0.9780 - val_loss: 0.0411 - val_mean_absolute_error: 0.0040 - val_acc: 0.9863\n",
      "Epoch 47/300\n",
      "48000/48000 [==============================] - 2s 35us/sample - loss: 0.0713 - mean_absolute_error: 0.0070 - acc: 0.9779 - val_loss: 0.0438 - val_mean_absolute_error: 0.0045 - val_acc: 0.9852\n",
      "Epoch 48/300\n",
      "48000/48000 [==============================] - 2s 36us/sample - loss: 0.0721 - mean_absolute_error: 0.0070 - acc: 0.9767 - val_loss: 0.0411 - val_mean_absolute_error: 0.0041 - val_acc: 0.9879\n",
      "Epoch 49/300\n",
      "48000/48000 [==============================] - 2s 37us/sample - loss: 0.0745 - mean_absolute_error: 0.0071 - acc: 0.9770 - val_loss: 0.0403 - val_mean_absolute_error: 0.0040 - val_acc: 0.9877\n",
      "Epoch 50/300\n",
      "48000/48000 [==============================] - 2s 37us/sample - loss: 0.0703 - mean_absolute_error: 0.0069 - acc: 0.9776 - val_loss: 0.0432 - val_mean_absolute_error: 0.0043 - val_acc: 0.9865\n",
      "Epoch 51/300\n",
      "48000/48000 [==============================] - 2s 36us/sample - loss: 0.0708 - mean_absolute_error: 0.0070 - acc: 0.9771 - val_loss: 0.0429 - val_mean_absolute_error: 0.0042 - val_acc: 0.9865\n",
      "Epoch 52/300\n",
      "48000/48000 [==============================] - 2s 36us/sample - loss: 0.0727 - mean_absolute_error: 0.0071 - acc: 0.9766 - val_loss: 0.0405 - val_mean_absolute_error: 0.0038 - val_acc: 0.9874\n",
      "Epoch 53/300\n",
      "48000/48000 [==============================] - 2s 37us/sample - loss: 0.0690 - mean_absolute_error: 0.0069 - acc: 0.9770 - val_loss: 0.0422 - val_mean_absolute_error: 0.0039 - val_acc: 0.9873\n",
      "Epoch 54/300\n",
      "48000/48000 [==============================] - 2s 37us/sample - loss: 0.0701 - mean_absolute_error: 0.0069 - acc: 0.9774 - val_loss: 0.0389 - val_mean_absolute_error: 0.0038 - val_acc: 0.9877\n",
      "Epoch 55/300\n",
      "48000/48000 [==============================] - 2s 36us/sample - loss: 0.0698 - mean_absolute_error: 0.0068 - acc: 0.9774 - val_loss: 0.0424 - val_mean_absolute_error: 0.0039 - val_acc: 0.9862\n",
      "Epoch 56/300\n",
      "48000/48000 [==============================] - 2s 37us/sample - loss: 0.0724 - mean_absolute_error: 0.0070 - acc: 0.9767 - val_loss: 0.0404 - val_mean_absolute_error: 0.0038 - val_acc: 0.9873\n",
      "Epoch 57/300\n",
      "48000/48000 [==============================] - 2s 37us/sample - loss: 0.0693 - mean_absolute_error: 0.0067 - acc: 0.9778 - val_loss: 0.0408 - val_mean_absolute_error: 0.0040 - val_acc: 0.9874\n",
      "Epoch 58/300\n",
      "48000/48000 [==============================] - 2s 37us/sample - loss: 0.0694 - mean_absolute_error: 0.0068 - acc: 0.9776 - val_loss: 0.0410 - val_mean_absolute_error: 0.0040 - val_acc: 0.9870\n",
      "Epoch 59/300\n",
      "48000/48000 [==============================] - 2s 37us/sample - loss: 0.0686 - mean_absolute_error: 0.0067 - acc: 0.9783 - val_loss: 0.0414 - val_mean_absolute_error: 0.0038 - val_acc: 0.9875\n",
      "Epoch 60/300\n",
      "48000/48000 [==============================] - 2s 36us/sample - loss: 0.0693 - mean_absolute_error: 0.0067 - acc: 0.9782 - val_loss: 0.0422 - val_mean_absolute_error: 0.0040 - val_acc: 0.9863\n",
      "Epoch 61/300\n",
      "48000/48000 [==============================] - 2s 37us/sample - loss: 0.0669 - mean_absolute_error: 0.0064 - acc: 0.9789 - val_loss: 0.0409 - val_mean_absolute_error: 0.0037 - val_acc: 0.9873\n",
      "Epoch 62/300\n",
      "48000/48000 [==============================] - 2s 37us/sample - loss: 0.0672 - mean_absolute_error: 0.0065 - acc: 0.9783 - val_loss: 0.0417 - val_mean_absolute_error: 0.0039 - val_acc: 0.9862\n",
      "Epoch 63/300\n",
      "48000/48000 [==============================] - 2s 36us/sample - loss: 0.0674 - mean_absolute_error: 0.0066 - acc: 0.9780 - val_loss: 0.0409 - val_mean_absolute_error: 0.0039 - val_acc: 0.9875\n",
      "Epoch 64/300\n",
      "48000/48000 [==============================] - 2s 36us/sample - loss: 0.0684 - mean_absolute_error: 0.0066 - acc: 0.9783 - val_loss: 0.0436 - val_mean_absolute_error: 0.0042 - val_acc: 0.9861\n",
      "Epoch 65/300\n",
      "48000/48000 [==============================] - 2s 38us/sample - loss: 0.0637 - mean_absolute_error: 0.0064 - acc: 0.9794 - val_loss: 0.0478 - val_mean_absolute_error: 0.0042 - val_acc: 0.9851\n",
      "Epoch 66/300\n",
      "48000/48000 [==============================] - 2s 37us/sample - loss: 0.0693 - mean_absolute_error: 0.0066 - acc: 0.9779 - val_loss: 0.0407 - val_mean_absolute_error: 0.0040 - val_acc: 0.9868\n",
      "Epoch 67/300\n",
      "48000/48000 [==============================] - 2s 36us/sample - loss: 0.0674 - mean_absolute_error: 0.0065 - acc: 0.9785 - val_loss: 0.0427 - val_mean_absolute_error: 0.0041 - val_acc: 0.9868\n",
      "Epoch 68/300\n",
      "48000/48000 [==============================] - 2s 36us/sample - loss: 0.0670 - mean_absolute_error: 0.0066 - acc: 0.9778 - val_loss: 0.0417 - val_mean_absolute_error: 0.0039 - val_acc: 0.9869\n",
      "Epoch 69/300\n",
      "48000/48000 [==============================] - 2s 37us/sample - loss: 0.0642 - mean_absolute_error: 0.0062 - acc: 0.9797 - val_loss: 0.0410 - val_mean_absolute_error: 0.0039 - val_acc: 0.9872\n",
      "Epoch 70/300\n",
      "48000/48000 [==============================] - 2s 37us/sample - loss: 0.0649 - mean_absolute_error: 0.0063 - acc: 0.9794 - val_loss: 0.0409 - val_mean_absolute_error: 0.0038 - val_acc: 0.9868\n",
      "Epoch 71/300\n",
      "48000/48000 [==============================] - 2s 36us/sample - loss: 0.0626 - mean_absolute_error: 0.0062 - acc: 0.9797 - val_loss: 0.0419 - val_mean_absolute_error: 0.0037 - val_acc: 0.9868\n",
      "Epoch 72/300\n",
      "48000/48000 [==============================] - 2s 36us/sample - loss: 0.0620 - mean_absolute_error: 0.0061 - acc: 0.9795 - val_loss: 0.0425 - val_mean_absolute_error: 0.0040 - val_acc: 0.9857\n",
      "Epoch 73/300\n",
      "48000/48000 [==============================] - 2s 39us/sample - loss: 0.0644 - mean_absolute_error: 0.0063 - acc: 0.9788 - val_loss: 0.0428 - val_mean_absolute_error: 0.0041 - val_acc: 0.9872\n",
      "Epoch 74/300\n",
      "48000/48000 [==============================] - 2s 37us/sample - loss: 0.0650 - mean_absolute_error: 0.0064 - acc: 0.9787 - val_loss: 0.0413 - val_mean_absolute_error: 0.0039 - val_acc: 0.9869\n",
      "Epoch 00074: early stopping\n"
     ]
    }
   ],
   "source": [
    "# Fitting\n",
    "\n",
    "log = model.fit(\n",
    "    X_train, \n",
    "    y_train, \n",
    "    epochs=300, \n",
    "    batch_size=1500, \n",
    "    verbose=True,\n",
    "    callbacks=[\n",
    "        keras.callbacks.EarlyStopping(\n",
    "            monitor='val_loss', \n",
    "            min_delta=0, \n",
    "            patience=20, \n",
    "            verbose=1\n",
    "        )\n",
    "    ],\n",
    "    validation_data=(X_validation, y_validation)\n",
    ")"
   ]
  },
  {
   "cell_type": "code",
   "execution_count": 8,
   "metadata": {},
   "outputs": [
    {
     "name": "stdout",
     "output_type": "stream",
     "text": [
      "Accuracy 0.9786875\n",
      "Loss 0.06497856439091265\n"
     ]
    }
   ],
   "source": [
    "# Results\n",
    "\n",
    "print('Accuracy', log.history['acc'][-1])\n",
    "print('Loss', log.history['loss'][-1])"
   ]
  },
  {
   "cell_type": "code",
   "execution_count": 9,
   "metadata": {},
   "outputs": [
    {
     "name": "stdout",
     "output_type": "stream",
     "text": [
      " 9870/10000 actual correct (98.700%)\n"
     ]
    }
   ],
   "source": [
    "# Prediction\n",
    "\n",
    "pred_test = model.predict_classes(X_test)\n",
    "validation = (pred_test == labels_test)\n",
    "size       = validation.size\n",
    "size\n",
    "correct    = np.count_nonzero(validation)\n",
    "print(f\" {correct}/{size} actual correct ({correct*100/size:.3f}%)\")"
   ]
  },
  {
   "cell_type": "code",
   "execution_count": 10,
   "metadata": {},
   "outputs": [
    {
     "data": {
      "image/png": "[encoded data removed]",
      "text/plain": [
       "<Figure size 288x288 with 1 Axes>"
      ]
     },
     "metadata": {
      "needs_background": "light"
     },
     "output_type": "display_data"
    },
    {
     "data": {
      "image/png": "[encoded data removed]",
      "text/plain": [
       "<Figure size 288x288 with 1 Axes>"
      ]
     },
     "metadata": {
      "needs_background": "light"
     },
     "output_type": "display_data"
    }
   ],
   "source": [
    "# Graphs\n",
    "\n",
    "fig = plt.figure(figsize=(4,4))\n",
    "plt.plot(log.history['loss'], label='loss')\n",
    "plt.plot(log.history['val_loss'], label='val_loss')\n",
    "plt.xlabel(\"Epoch\")\n",
    "plt.ylabel(\"MSE\")\n",
    "plt.legend(frameon=True)\n",
    "plt.show()\n",
    "\n",
    "fig = plt.figure(figsize=(4,4))\n",
    "plt.plot(log.history['acc'], label='acc')\n",
    "plt.xlabel(\"Epoch\")\n",
    "plt.ylabel(\"Accuracy\")\n",
    "plt.legend(frameon=True)\n",
    "plt.show()"
   ]
  },
  {
   "cell_type": "code",
   "execution_count": null,
   "metadata": {},
   "outputs": [],
   "source": []
  }
 ],
 "metadata": {
  "kernelspec": {
   "display_name": "Python 3",
   "language": "python",
   "name": "python3"
  },
  "language_info": {
   "codemirror_mode": {
    "name": "ipython",
    "version": 3
   },
   "file_extension": ".py",
   "mimetype": "text/x-python",
   "name": "python",
   "nbconvert_exporter": "python",
   "pygments_lexer": "ipython3",
   "version": "3.6.8"
  }
 },
 "nbformat": 4,
 "nbformat_minor": 2
}
